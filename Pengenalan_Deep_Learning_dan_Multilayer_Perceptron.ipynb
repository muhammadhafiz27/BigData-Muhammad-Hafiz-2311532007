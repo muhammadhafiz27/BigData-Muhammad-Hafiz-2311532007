{
  "nbformat": 4,
  "nbformat_minor": 0,
  "metadata": {
    "colab": {
      "provenance": [],
      "authorship_tag": "ABX9TyPDdSyfiH2nz8O1SYJWGa4X",
      "include_colab_link": true
    },
    "kernelspec": {
      "name": "python3",
      "display_name": "Python 3"
    },
    "language_info": {
      "name": "python"
    }
  },
  "cells": [
    {
      "cell_type": "markdown",
      "metadata": {
        "id": "view-in-github",
        "colab_type": "text"
      },
      "source": [
        "<a href=\"https://colab.research.google.com/github/muhammadhafiz27/BigData-Muhammad-Hafiz-2311532007/blob/main/Pengenalan_Deep_Learning_dan_Multilayer_Perceptron.ipynb\" target=\"_parent\"><img src=\"https://colab.research.google.com/assets/colab-badge.svg\" alt=\"Open In Colab\"/></a>"
      ]
    },
    {
      "cell_type": "markdown",
      "source": [
        "# **Import Library**"
      ],
      "metadata": {
        "id": "Qek8LVVrymSp"
      }
    },
    {
      "cell_type": "code",
      "execution_count": 1,
      "metadata": {
        "id": "EwTe333lygBE"
      },
      "outputs": [],
      "source": [
        "import torch\n",
        "import torch.nn as nn\n",
        "import torch.optim as optim\n",
        "from sklearn.datasets import load_iris\n",
        "from sklearn.model_selection import train_test_split\n",
        "from sklearn.preprocessing import StandardScaler\n",
        "from sklearn.metrics import accuracy_score"
      ]
    },
    {
      "cell_type": "markdown",
      "source": [
        "# **Load dataset**"
      ],
      "metadata": {
        "id": "F5DOmCRWyuMv"
      }
    },
    {
      "cell_type": "code",
      "source": [
        "iris = load_iris()\n",
        "X, y = iris.data, iris.target\n",
        "X = StandardScaler().fit_transform(X)"
      ],
      "metadata": {
        "id": "Qrr_2IP4ytn7"
      },
      "execution_count": 2,
      "outputs": []
    },
    {
      "cell_type": "markdown",
      "source": [
        "## **Split data**"
      ],
      "metadata": {
        "id": "HLy0GzlEytiB"
      }
    },
    {
      "cell_type": "code",
      "source": [
        "X_train, X_test, y_train, y_test = train_test_split(X, y, test_size=0.2, random_state=42)"
      ],
      "metadata": {
        "id": "95K547kfyurA"
      },
      "execution_count": 3,
      "outputs": []
    },
    {
      "cell_type": "markdown",
      "source": [
        "## **Convert ke tensor**"
      ],
      "metadata": {
        "id": "BDTGkW3Ny9wD"
      }
    },
    {
      "cell_type": "code",
      "source": [
        "X_train = torch.FloatTensor(X_train)\n",
        "y_train = torch.LongTensor(y_train)\n",
        "X_test = torch.FloatTensor(X_test)\n",
        "y_test = torch.LongTensor(y_test)"
      ],
      "metadata": {
        "id": "uj76EF5Ty-qD"
      },
      "execution_count": 4,
      "outputs": []
    },
    {
      "cell_type": "markdown",
      "source": [
        "# **Definisikan MLP**"
      ],
      "metadata": {
        "id": "SubmbFB6zHEE"
      }
    },
    {
      "cell_type": "code",
      "source": [
        "class MLP(nn.Module):\n",
        "  def __init__(self, input_dim, output_dim):\n",
        "    super(MLP, self).__init__()\n",
        "    self.model = nn.Sequential(\n",
        "      nn.Linear(input_dim, 64),\n",
        "      nn.ReLU(),\n",
        "      nn.Linear(64, 32),\n",
        "      nn.ReLU(),\n",
        "      nn.Linear(32, output_dim)\n",
        "    )\n",
        "  def forward(self, x):\n",
        "    return self.model(x)\n"
      ],
      "metadata": {
        "id": "2EJqU6jDzG6n"
      },
      "execution_count": 5,
      "outputs": []
    },
    {
      "cell_type": "markdown",
      "source": [
        "# **Inisialisasi model**"
      ],
      "metadata": {
        "id": "kaZOv8t-zUuI"
      }
    },
    {
      "cell_type": "code",
      "source": [
        "model = MLP(4, 3)\n",
        "criterion = nn.CrossEntropyLoss()\n",
        "optimizer = optim.Adam(model.parameters(), lr=0.01)"
      ],
      "metadata": {
        "id": "T_nz0ht9zUnh"
      },
      "execution_count": 6,
      "outputs": []
    },
    {
      "cell_type": "markdown",
      "source": [
        "# **Training loop**"
      ],
      "metadata": {
        "id": "NpeT-Pq_zc0W"
      }
    },
    {
      "cell_type": "code",
      "source": [
        "import time\n",
        "\n",
        "loss_history = [] # Initialize a list to store loss values\n",
        "\n",
        "start_time = time.time() # Record the start time\n",
        "\n",
        "for epoch in range(100):\n",
        "  optimizer.zero_grad()\n",
        "  outputs = model(X_train)\n",
        "  loss = criterion(outputs, y_train)\n",
        "  loss.backward()\n",
        "  optimizer.step()\n",
        "\n",
        "  loss_history.append(loss.item()) # Append the loss value to the list\n",
        "\n",
        "  if (epoch+1) % 10 == 0:\n",
        "    print(f'Epoch [{epoch+1}/100], Loss: {loss.item():.4f}')\n",
        "\n",
        "end_time = time.time() # Record the end time\n",
        "training_time = end_time - start_time # Calculate the training time\n",
        "\n",
        "print(f'\\nTraining time: {training_time:.4f} seconds') # Print the training time"
      ],
      "metadata": {
        "colab": {
          "base_uri": "https://localhost:8080/"
        },
        "id": "pI0I2vOjzcrc",
        "outputId": "4071496c-3d6b-4657-8b42-4b33c31782a7"
      },
      "execution_count": 7,
      "outputs": [
        {
          "output_type": "stream",
          "name": "stdout",
          "text": [
            "Epoch [10/100], Loss: 0.3288\n",
            "Epoch [20/100], Loss: 0.0853\n",
            "Epoch [30/100], Loss: 0.0481\n",
            "Epoch [40/100], Loss: 0.0405\n",
            "Epoch [50/100], Loss: 0.0365\n",
            "Epoch [60/100], Loss: 0.0322\n",
            "Epoch [70/100], Loss: 0.0273\n",
            "Epoch [80/100], Loss: 0.0216\n",
            "Epoch [90/100], Loss: 0.0156\n",
            "Epoch [100/100], Loss: 0.0104\n",
            "\n",
            "Training time: 0.2855 seconds\n"
          ]
        }
      ]
    },
    {
      "cell_type": "markdown",
      "source": [
        "# **Evaluasi**"
      ],
      "metadata": {
        "id": "6bZESF-QzrOY"
      }
    },
    {
      "cell_type": "code",
      "source": [
        "with torch.no_grad():\n",
        "  y_pred = torch.argmax(model(X_test), dim=1)\n",
        "  acc = accuracy_score(y_test, y_pred)\n",
        "  print(f'\\nAkurasi Model: {acc:.4f}')"
      ],
      "metadata": {
        "colab": {
          "base_uri": "https://localhost:8080/"
        },
        "id": "jIEsSlmczrlw",
        "outputId": "23df28a8-3e60-4f5d-80d4-f886c25bab36"
      },
      "execution_count": 8,
      "outputs": [
        {
          "output_type": "stream",
          "name": "stdout",
          "text": [
            "\n",
            "Akurasi Model: 1.0000\n"
          ]
        }
      ]
    },
    {
      "cell_type": "markdown",
      "source": [
        "# **Analisis Hasil**"
      ],
      "metadata": {
        "id": "ynaBVbbD0WCd"
      }
    },
    {
      "cell_type": "code",
      "source": [
        "import matplotlib.pyplot as plt\n",
        "\n",
        "plt.figure(figsize=(10, 6))\n",
        "# Gunakan range(1, 101) untuk sumbu X (Epoch) dan loss_history untuk sumbu Y (Loss)\n",
        "plt.plot(range(1, 101), loss_history, label='Training Loss', color='blue')\n",
        "plt.title('Training Loss vs. Epoch')\n",
        "plt.xlabel('Epoch')\n",
        "plt.ylabel('Loss (CrossEntropyLoss)')\n",
        "plt.grid(True)\n",
        "plt.legend()\n",
        "plt.show()"
      ],
      "metadata": {
        "colab": {
          "base_uri": "https://localhost:8080/",
          "height": 564
        },
        "id": "4W6sVt2215m7",
        "outputId": "4ff58653-e7af-40bc-bdf9-0d6cd5b94190"
      },
      "execution_count": 9,
      "outputs": [
        {
          "output_type": "display_data",
          "data": {
            "text/plain": [
              "<Figure size 1000x600 with 1 Axes>"
            ],
            "image/png": "[encoded data removed]"
          },
          "metadata": {}
        }
      ]
    }
  ]
}